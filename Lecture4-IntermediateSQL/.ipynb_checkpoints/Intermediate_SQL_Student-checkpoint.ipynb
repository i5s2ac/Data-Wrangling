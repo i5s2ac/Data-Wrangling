{
 "cells": [
  {
   "cell_type": "markdown",
   "metadata": {},
   "source": [
    "# SQL Parte 2:\n",
    "\n",
    "## Objetivos:\n",
    "    1. Organización de tablas.\n",
    "    2. Introducción a joins entre tablas.\n",
    "    \n",
    "\n"
   ]
  },
  {
   "cell_type": "code",
   "execution_count": 9,
   "metadata": {},
   "outputs": [],
   "source": [
    "import pandas as pd\n",
    "import duckdb"
   ]
  },
  {
   "cell_type": "code",
   "execution_count": 10,
   "metadata": {},
   "outputs": [],
   "source": [
    "import warnings\n",
    "warnings.filterwarnings(action = 'ignore')"
   ]
  },
  {
   "cell_type": "code",
   "execution_count": 11,
   "metadata": {},
   "outputs": [],
   "source": [
    "duck_query = lambda q: duckdb.query(q)"
   ]
  },
  {
   "cell_type": "code",
   "execution_count": 21,
   "metadata": {},
   "outputs": [],
   "source": [
    "duck_query(\n",
    "    \"\"\"\n",
    "    INSTALL mysql;\n",
    "    LOAD mysql;\n",
    "    \"\"\"\n",
    ")"
   ]
  },
  {
   "cell_type": "markdown",
   "metadata": {},
   "source": [
    "Utilizaremos la siguiente conexión: https://relational.fel.cvut.cz/dataset/IMDb"
   ]
  },
  {
   "cell_type": "markdown",
   "metadata": {},
   "source": [
    "<img src=\"IMDB_Schema.png\" />"
   ]
  },
  {
   "cell_type": "code",
   "execution_count": 22,
   "metadata": {},
   "outputs": [],
   "source": [
    "duck_query(\n",
    "    \"\"\"\n",
    "    ATTACH 'host=relational.fel.cvut.cz user=guest password=ctu-relational port=3306 database=imdb_ijs' AS imdb (TYPE MYSQL);\n",
    "    \"\"\"\n",
    ")"
   ]
  },
  {
   "cell_type": "code",
   "execution_count": null,
   "metadata": {},
   "outputs": [],
   "source": [
    "duck_query(\n",
    "    \"\"\"\n",
    "    SHOW TABLES\n",
    "    \"\"\"\n",
    ")"
   ]
  },
  {
   "cell_type": "markdown",
   "metadata": {},
   "source": [
    "### 2. Enviar un query a la base de datos y obtenerlo como un dataframe de Pandas:\n",
    "\n",
    "    Utilizaremos la función creada anteriormente \"duck_query\" para obtener los resultados de nuestros querys: "
   ]
  },
  {
   "cell_type": "code",
   "execution_count": null,
   "metadata": {},
   "outputs": [],
   "source": [
    "duck_query(\n",
    "    \"\"\"\n",
    "    SELECT *\n",
    "    FROM\n",
    "        imdb.actors\n",
    "    LIMIT 5\n",
    "    \"\"\"\n",
    ").to_df()"
   ]
  },
  {
   "cell_type": "markdown",
   "metadata": {},
   "source": [
    "### 3. Organización de tablas"
   ]
  },
  {
   "cell_type": "markdown",
   "metadata": {},
   "source": [
    "### 3.1 Crear y eliminar tablas"
   ]
  },
  {
   "cell_type": "code",
   "execution_count": 67,
   "metadata": {},
   "outputs": [],
   "source": [
    "duck_query(\n",
    "    \"\"\"\n",
    "    CREATE OR REPLACE TABLE jjosue_temp_actors AS\n",
    "    SELECT *\n",
    "    FROM\n",
    "        imdb.actors\n",
    "    WHERE\n",
    "        id BETWEEN 1 AND 99\n",
    "    ;\n",
    "    \"\"\"\n",
    ")"
   ]
  },
  {
   "cell_type": "code",
   "execution_count": 66,
   "metadata": {},
   "outputs": [],
   "source": [
    "duck_query(\n",
    "    \"\"\"\n",
    "    DROP TABLE jjosue_temp_actors;\n",
    "    \"\"\"\n",
    ")"
   ]
  },
  {
   "cell_type": "markdown",
   "metadata": {},
   "source": [
    "Otras formas de trabajar con creacion de tablas sería con comandos como:\n",
    "\n",
    "* DROP TABLE jjosue_temp_actors;\n",
    "* CREATE TABLE jjosue_temp_actors AS ...;\n",
    "\n",
    "Sin embargo, se recomienda utilizar REPLACE para no tener problemas al momento de eliminar una tabla que aún no ha sido creada."
   ]
  },
  {
   "cell_type": "markdown",
   "metadata": {},
   "source": [
    "<img src=\"Create_Table.png\" />\n",
    "<img src=\"Create_table_syntax.png\" />"
   ]
  },
  {
   "cell_type": "code",
   "execution_count": 25,
   "metadata": {},
   "outputs": [],
   "source": [
    "list_df = duck_query(\n",
    "    \"\"\"\n",
    "    SHOW ALL TABLES \n",
    "    \"\"\"\n",
    ").to_df()"
   ]
  },
  {
   "cell_type": "code",
   "execution_count": 26,
   "metadata": {},
   "outputs": [
    {
     "data": {
      "text/html": [
       "<div>\n",
       "<style scoped>\n",
       "    .dataframe tbody tr th:only-of-type {\n",
       "        vertical-align: middle;\n",
       "    }\n",
       "\n",
       "    .dataframe tbody tr th {\n",
       "        vertical-align: top;\n",
       "    }\n",
       "\n",
       "    .dataframe thead th {\n",
       "        text-align: right;\n",
       "    }\n",
       "</style>\n",
       "<table border=\"1\" class=\"dataframe\">\n",
       "  <thead>\n",
       "    <tr style=\"text-align: right;\">\n",
       "      <th></th>\n",
       "      <th>database</th>\n",
       "      <th>schema</th>\n",
       "      <th>name</th>\n",
       "      <th>column_names</th>\n",
       "      <th>column_types</th>\n",
       "      <th>temporary</th>\n",
       "    </tr>\n",
       "  </thead>\n",
       "  <tbody>\n",
       "    <tr>\n",
       "      <th>1845</th>\n",
       "      <td>memory</td>\n",
       "      <td>main</td>\n",
       "      <td>jjosue_temp_actors</td>\n",
       "      <td>[id, first_name, last_name, gender]</td>\n",
       "      <td>[INTEGER, VARCHAR, VARCHAR, VARCHAR]</td>\n",
       "      <td>False</td>\n",
       "    </tr>\n",
       "    <tr>\n",
       "      <th>1846</th>\n",
       "      <td>temp</td>\n",
       "      <td>main</td>\n",
       "      <td>temp_actors</td>\n",
       "      <td>[id, first_name, last_name, gender]</td>\n",
       "      <td>[INTEGER, VARCHAR, VARCHAR, VARCHAR]</td>\n",
       "      <td>True</td>\n",
       "    </tr>\n",
       "  </tbody>\n",
       "</table>\n",
       "</div>"
      ],
      "text/plain": [
       "     database schema                name                         column_names  \\\n",
       "1845   memory   main  jjosue_temp_actors  [id, first_name, last_name, gender]   \n",
       "1846     temp   main         temp_actors  [id, first_name, last_name, gender]   \n",
       "\n",
       "                              column_types  temporary  \n",
       "1845  [INTEGER, VARCHAR, VARCHAR, VARCHAR]      False  \n",
       "1846  [INTEGER, VARCHAR, VARCHAR, VARCHAR]       True  "
      ]
     },
     "execution_count": 26,
     "metadata": {},
     "output_type": "execute_result"
    }
   ],
   "source": [
    "list_df[list_df['database']!='imdb']"
   ]
  },
  {
   "cell_type": "markdown",
   "metadata": {},
   "source": [
    "### 3.2 Insertar y eliminar registros"
   ]
  },
  {
   "cell_type": "code",
   "execution_count": 57,
   "metadata": {},
   "outputs": [
    {
     "data": {
      "text/plain": [
       "┌──────────────┐\n",
       "│ count_star() │\n",
       "│    int64     │\n",
       "├──────────────┤\n",
       "│           95 │\n",
       "└──────────────┘"
      ]
     },
     "execution_count": 57,
     "metadata": {},
     "output_type": "execute_result"
    }
   ],
   "source": [
    "duck_query(\n",
    "    \"\"\"\n",
    "    SELECT COUNT(*) FROM jjosue_temp_actors;\n",
    "    \"\"\"\n",
    ")"
   ]
  },
  {
   "cell_type": "code",
   "execution_count": 58,
   "metadata": {},
   "outputs": [],
   "source": [
    "duck_query(\n",
    "    \"\"\"\n",
    "    INSERT INTO jjosue_temp_actors\n",
    "    SELECT *\n",
    "    FROM\n",
    "        imdb.actors\n",
    "    WHERE \n",
    "        id BETWEEN 100 AND 199\n",
    "    \"\"\"\n",
    ")"
   ]
  },
  {
   "cell_type": "code",
   "execution_count": 59,
   "metadata": {},
   "outputs": [
    {
     "data": {
      "text/plain": [
       "┌──────────────┐\n",
       "│ count_star() │\n",
       "│    int64     │\n",
       "├──────────────┤\n",
       "│          190 │\n",
       "└──────────────┘"
      ]
     },
     "execution_count": 59,
     "metadata": {},
     "output_type": "execute_result"
    }
   ],
   "source": [
    "duck_query(\n",
    "    \"\"\"\n",
    "    SELECT COUNT(*) FROM jjosue_temp_actors;\n",
    "    \"\"\"\n",
    ")"
   ]
  },
  {
   "cell_type": "code",
   "execution_count": 64,
   "metadata": {},
   "outputs": [],
   "source": [
    "duck_query(\n",
    "    \"\"\"\n",
    "    DELETE FROM jjosue_temp_actors WHERE id BETWEEN 46 AND 56;\n",
    "    \"\"\"\n",
    ")"
   ]
  },
  {
   "cell_type": "code",
   "execution_count": 65,
   "metadata": {},
   "outputs": [
    {
     "data": {
      "text/plain": [
       "┌──────────────┐\n",
       "│ count_star() │\n",
       "│    int64     │\n",
       "├──────────────┤\n",
       "│          180 │\n",
       "└──────────────┘"
      ]
     },
     "execution_count": 65,
     "metadata": {},
     "output_type": "execute_result"
    }
   ],
   "source": [
    "duck_query(\n",
    "    \"\"\"\n",
    "    SELECT COUNT(*) FROM jjosue_temp_actors;\n",
    "    \"\"\"\n",
    ")"
   ]
  },
  {
   "cell_type": "markdown",
   "metadata": {},
   "source": [
    "### 4. Introducción a Joins entre tablas:\n",
    "\n",
    "#### Teoría de conjuntos: \n",
    "    Conjunto: \n",
    "        -Una colección de distintos elementos (Tsitsiklis).\n",
    "        -Una agrupación, colección o reunión de objeto que cumplen una propiedad determinada.\n",
    "    \n",
    "    A los objetos del conjunto se denominan elementos. \n",
    "    \n",
    "    \n",
    "#### Ejemplos:\n",
    "    1. El conjunto de estudiantes de data wrangling.\n",
    "    2. El conjunto de letras de \"data wrangling\". \n",
    "    \n",
    "#### Notación: \n",
    "    Los conjuntos se denotan con letras mayúsculas del alfabeto. Los elementos se escriben dentro de llaves.\n",
    "    \n",
    "    A = El conjunto de estudiantes de data wrangling. \n",
    "    B = El conjunto de letras de \"data wrangling\".\n",
    "    \n",
    "#### Determinación de conjuntos: \n",
    "    Extensión: se enumeran o se nombran los elementos del conjunto.\n",
    "        B = {d,a,t,w,r,n,g,l} \n",
    "    Comprensión: Se enuncia la propiedad o la cualidad que distingue a los elementos.\n",
    "        B = {x/ x es una letra de las palabras \"data wrangling\"}\n",
    "    \n",
    "\n",
    "#### Conjuntos especiales\n",
    "\n",
    "        Conjunto vacío: aquel en el que ningún elemento cumple con la propiedad conocida como la regla de elegibilidad. \n",
    "        (Para cada familia de conjuntos, existe otro conjunto que contiene un elemento de cada uno de aquellos.)\n",
    "\n",
    "    (Ver axioma de existencia) \n",
    "\n",
    "#### Propiedades de los conjuntos \n",
    "\n",
    "<img src=\"set_theory.png\" />\n",
    "\n",
    "- La intersección de conjuntos es conmutativa.\n",
    "- La intersección de conjuntos es asociativa. \n",
    "- La intersección es distributiva respecto a la unión.\n",
    "- La unión es distributiva respecto a la intersección.\n",
    "- La unión de un conjunto con el universo es el universo.\n",
    "- La intersección de un conjunto con su complemento es el conjunto vacío.\n",
    "\n",
    "\n",
    "\n",
    "#### Joins entre tablas. \n",
    "\n",
    "Una de las aplicaciones más palpables de teoría de conjuntos en la ciencia de datos (aparte de teoría de probabilidad) es en manipulación y union entre sets de datos. De cierta manera, podemos pensar en nuestras colecciones de datos como conjuntos de elementos que comparten ciertas características en común. Sin embargo, estas características están dispersas en varias fuentes de información y parte previa al análisis es el proceso de consolidación, por lo cual se vuelve necesario realizar operaciones de conjuntos con ellos. \n",
    "\n",
    "Para esto, utilizaremos las keywords JOIN de SQL.\n",
    "\n",
    "\n",
    "<img src=\"joins.jpg\" />\n",
    "\n",
    "\n"
   ]
  },
  {
   "cell_type": "markdown",
   "metadata": {},
   "source": [
    "### Ejemplo 1: Encontrar el ID del director de las películas de Star Wars"
   ]
  },
  {
   "cell_type": "code",
   "execution_count": 99,
   "metadata": {},
   "outputs": [],
   "source": [
    "duck_query(\n",
    "    \"\"\"\n",
    "    CREATE OR REPLACE TEMPORARY TABLE star_wars_movies AS\n",
    "    SELECT DISTINCT\n",
    "        a.id\n",
    "        ,a.name\n",
    "        ,a.year\n",
    "        ,b.director_id\n",
    "    FROM\n",
    "        imdb.movies AS a\n",
    "    LEFT JOIN\n",
    "        imdb.movies_directors AS b\n",
    "        ON a.id = b.movie_id\n",
    "    WHERE\n",
    "        LOWER(TRIM(name)) LIKE '%star wars%'\n",
    "    ORDER BY year DESC\n",
    "    LIMIT 10\n",
    "    ;\n",
    "    \"\"\"\n",
    ")"
   ]
  },
  {
   "cell_type": "code",
   "execution_count": 100,
   "metadata": {},
   "outputs": [
    {
     "data": {
      "text/plain": [
       "┌────────┬──────────────────────────────────────────────────────┬───────┬─────────────┐\n",
       "│   id   │                         name                         │ year  │ director_id │\n",
       "│ int32  │                       varchar                        │ int32 │    int32    │\n",
       "├────────┼──────────────────────────────────────────────────────┼───────┼─────────────┤\n",
       "│ 313477 │ Star Wars: Episode III - Revenge of the Sith         │  2005 │       48115 │\n",
       "│ 313496 │ Star Wars: Republic Commando                         │  2005 │        NULL │\n",
       "│ 289116 │ Saving Star Wars                                     │  2004 │       86465 │\n",
       "│ 313466 │ Star Wars: Battlefront                               │  2004 │        NULL │\n",
       "│ 100121 │ Empire of Dreams: The Story of the Star Wars Trilogy │  2004 │       10809 │\n",
       "│ 100121 │ Empire of Dreams: The Story of the Star Wars Trilogy │  2004 │        5662 │\n",
       "│ 313465 │ Star Wars Rogue Squadron III: Rebel Strike           │  2003 │       22349 │\n",
       "│ 406411 │ \"Star Wars: Clone Wars\"                              │  2003 │       78334 │\n",
       "│ 313489 │ Star Wars: Knights of the Old Republic               │  2003 │        NULL │\n",
       "│ 313485 │ Star Wars: Jedi Knight - Jedi Academy                │  2003 │        NULL │\n",
       "├────────┴──────────────────────────────────────────────────────┴───────┴─────────────┤\n",
       "│ 10 rows                                                                   4 columns │\n",
       "└─────────────────────────────────────────────────────────────────────────────────────┘"
      ]
     },
     "execution_count": 100,
     "metadata": {},
     "output_type": "execute_result"
    }
   ],
   "source": [
    "duck_query(\n",
    "    \"\"\"\n",
    "    SELECT * \n",
    "    FROM star_wars_movies\n",
    "    ;\n",
    "    \"\"\"\n",
    ")"
   ]
  },
  {
   "cell_type": "markdown",
   "metadata": {},
   "source": [
    "### Ejercicio 1: \n",
    "\n",
    "Obtener las películas de Steven Spielberg y ordenar por año de manera descendiente."
   ]
  },
  {
   "cell_type": "code",
   "execution_count": null,
   "metadata": {},
   "outputs": [],
   "source": []
  },
  {
   "cell_type": "code",
   "execution_count": null,
   "metadata": {},
   "outputs": [],
   "source": []
  },
  {
   "cell_type": "markdown",
   "metadata": {},
   "source": [
    "### Ejemplo 2: Actores y roles de películas"
   ]
  },
  {
   "cell_type": "code",
   "execution_count": 101,
   "metadata": {},
   "outputs": [
    {
     "data": {
      "text/plain": [
       "┌────────┬─────────────────────────────┬───────┬─────────────┬───────────────────────────────┬─────────────────────────┐\n",
       "│   id   │            name             │ year  │ director_id │             role              │       actor_name        │\n",
       "│ int32  │           varchar           │ int32 │    int32    │            varchar            │         varchar         │\n",
       "├────────┼─────────────────────────────┼───────┼─────────────┼───────────────────────────────┼─────────────────────────┤\n",
       "│ 313477 │ Star Wars: Episode III - …  │  2005 │       48115 │ Motee                         │ Kristy Wright           │\n",
       "│ 313477 │ Star Wars: Episode III - …  │  2005 │       48115 │ Ryoo Naberrie                 │ Keira Wingate           │\n",
       "│ 313477 │ Star Wars: Episode III - …  │  2005 │       48115 │ A Jedi Knight                 │ Aliyah Williams         │\n",
       "│ 313477 │ Star Wars: Episode III - …  │  2005 │       48115 │ Senator Terr Taneel           │ Motshabi Tyelele        │\n",
       "│ 313477 │ Star Wars: Episode III - …  │  2005 │       48115 │ Rune Haako                    │ Sandy Thompson          │\n",
       "│ 313477 │ Star Wars: Episode III - …  │  2005 │       48115 │ A Handmaiden                  │ Holly Stringer          │\n",
       "│ 313477 │ Star Wars: Episode III - …  │  2005 │       48115 │ A Senator                     │ Lisa Shaunessy          │\n",
       "│ 313477 │ Star Wars: Episode III - …  │  2005 │       48115 │ Senator Amidala/Padmé Naberri │ Natalie Portman         │\n",
       "│ 313477 │ Star Wars: Episode III - …  │  2005 │       48115 │ Beru Whitesun-Lars            │ Bonnie Piesse           │\n",
       "│ 313477 │ Star Wars: Episode III - …  │  2005 │       48115 │ Luminara Unduli               │ Mary Oyaya              │\n",
       "│    ·   │              ·              │    ·  │         ·   │        ·                      │     ·                   │\n",
       "│    ·   │              ·              │    ·  │         ·   │        ·                      │     ·                   │\n",
       "│    ·   │              ·              │    ·  │         ·   │        ·                      │     ·                   │\n",
       "│ 313477 │ Star Wars: Episode III - …  │  2005 │       48115 │ Tundra Dowmeia's Aide         │ T.V. Moore              │\n",
       "│ 313477 │ Star Wars: Episode III - …  │  2005 │       48115 │ Supreme Chancellor/Emperor Pa │ Ian McDiarmid           │\n",
       "│ 313477 │ Star Wars: Episode III - …  │  2005 │       48115 │ Chewbacca                     │ Peter (II) Mayhew       │\n",
       "│ 313477 │ Star Wars: Episode III - …  │  2005 │       48115 │ Tado                          │ Jett Lucas              │\n",
       "│ 313477 │ Star Wars: Episode III - …  │  2005 │       48115 │ Senator Giddean Danu          │ Christopher Kirby       │\n",
       "│ 313477 │ Star Wars: Episode III - …  │  2005 │       48115 │ A Blue Senate Guard           │ Peter (XI) Jackson      │\n",
       "│ 313477 │ Star Wars: Episode III - …  │  2005 │       48115 │ A Senator                     │ Nicholas (III) Ferguson │\n",
       "│ 313477 │ Star Wars: Episode III - …  │  2005 │       48115 │ C-3PO                         │ Anthony Daniels         │\n",
       "│ 313477 │ Star Wars: Episode III - …  │  2005 │       48115 │ Agen Kolar                    │ Tux Akindoyeni          │\n",
       "│ 313477 │ Star Wars: Episode III - …  │  2005 │       48115 │ Senator Orn Free Taa          │ Matt Rowan              │\n",
       "├────────┴─────────────────────────────┴───────┴─────────────┴───────────────────────────────┴─────────────────────────┤\n",
       "│ 90 rows (20 shown)                                                                                         6 columns │\n",
       "└──────────────────────────────────────────────────────────────────────────────────────────────────────────────────────┘"
      ]
     },
     "execution_count": 101,
     "metadata": {},
     "output_type": "execute_result"
    }
   ],
   "source": [
    "duck_query(\n",
    "    \"\"\"    \n",
    "    SELECT\n",
    "        a.*\n",
    "        ,b.role\n",
    "        ,c.first_name || ' ' || c.last_name AS actor_name\n",
    "    FROM\n",
    "        star_wars_movies AS a\n",
    "    LEFT JOIN\n",
    "        imdb.roles AS b\n",
    "        ON a.id = b.movie_id\n",
    "    LEFT JOIN\n",
    "        imdb.actors AS c\n",
    "        ON b.actor_id = c.id\n",
    "    WHERE\n",
    "        a.name like 'Star Wars: Episode III%'\n",
    "    --ORDER BY a.id, a.name, a.year DESC\n",
    "    ;\n",
    "    \"\"\"\n",
    ")"
   ]
  },
  {
   "cell_type": "markdown",
   "metadata": {},
   "source": [
    "### Ejercicio 2: \n",
    "\n",
    "2.1 Cuántos directores han dirigido las películas de Harry Potter?\n",
    "\n",
    "2.2 Cuáles son los géneros más comunes de los directores de las películas de Harry Potter?"
   ]
  },
  {
   "cell_type": "code",
   "execution_count": null,
   "metadata": {},
   "outputs": [],
   "source": []
  },
  {
   "cell_type": "code",
   "execution_count": null,
   "metadata": {},
   "outputs": [],
   "source": []
  },
  {
   "cell_type": "code",
   "execution_count": null,
   "metadata": {},
   "outputs": [],
   "source": []
  },
  {
   "cell_type": "code",
   "execution_count": null,
   "metadata": {},
   "outputs": [],
   "source": []
  }
 ],
 "metadata": {
  "kernelspec": {
   "display_name": "Python 3 (ipykernel)",
   "language": "python",
   "name": "python3"
  },
  "language_info": {
   "codemirror_mode": {
    "name": "ipython",
    "version": 3
   },
   "file_extension": ".py",
   "mimetype": "text/x-python",
   "name": "python",
   "nbconvert_exporter": "python",
   "pygments_lexer": "ipython3",
   "version": "3.12.2"
  }
 },
 "nbformat": 4,
 "nbformat_minor": 4
}
